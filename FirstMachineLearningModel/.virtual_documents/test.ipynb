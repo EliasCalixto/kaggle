import pandas as pd
import numpy as np

student_file_path = "StudentPerformanceFactors.csv"
student_data = pd.read_csv(student_file_path)

print(student_data.columns)
print(student_data)



